{
 "cells": [
  {
   "cell_type": "code",
   "execution_count": 66,
   "metadata": {},
   "outputs": [
    {
     "name": "stdout",
     "output_type": "stream",
     "text": [
      "cuda\n"
     ]
    }
   ],
   "source": [
    "import torch\n",
    "import torch.nn as nn\n",
    "from torch.nn import functional as F\n",
    "device = 'cuda' if torch.cuda.is_available() else 'cpu'\n",
    "print(device)\n",
    "block_size = 8\n",
    "batch_size = 4\n",
    "max_iters = 1000\n",
    "# eval_interval = 2500\n",
    "learning_rate = 3e-4\n",
    "eval_iters = 250"
   ]
  },
  {
   "cell_type": "code",
   "execution_count": 67,
   "metadata": {},
   "outputs": [
    {
     "name": "stdout",
     "output_type": "stream",
     "text": [
      "['\\n', ' ', '!', '#', '$', '%', '&', '(', ')', '*', ',', '-', '.', '/', '0', '1', '2', '3', '4', '5', '6', '7', '8', '9', ':', ';', '?', 'A', 'B', 'C', 'D', 'E', 'F', 'G', 'H', 'I', 'J', 'K', 'L', 'M', 'N', 'O', 'P', 'Q', 'R', 'S', 'T', 'U', 'V', 'W', 'X', 'Y', 'Z', '[', ']', 'a', 'b', 'c', 'd', 'e', 'f', 'g', 'h', 'i', 'j', 'k', 'l', 'm', 'n', 'o', 'p', 'q', 'r', 's', 't', 'u', 'v', 'w', 'x', 'y', 'z', '—', '‘', '’', '“', '”', '•', '™', '\\ufeff']\n"
     ]
    },
    {
     "data": {
      "text/plain": [
       "89"
      ]
     },
     "execution_count": 67,
     "metadata": {},
     "output_type": "execute_result"
    }
   ],
   "source": [
    "with open('wizard_of_oz.txt' , 'r', encoding='utf-8') as f:\n",
    "    text = f.read()\n",
    "#print(text[:200])\n",
    "\n",
    "chars = sorted(set(text))\n",
    "print (chars)\n",
    "vocab_size= len(chars)\n",
    "vocab_size"
   ]
  },
  {
   "cell_type": "code",
   "execution_count": 68,
   "metadata": {},
   "outputs": [
    {
     "name": "stdout",
     "output_type": "stream",
     "text": [
      "tensor([88, 46, 63, 74, 66, 59, 24,  1, 46, 62, 59,  1, 49, 69, 68, 58, 59, 72,\n",
      "        60, 75, 66,  1, 49, 63, 80, 55, 72, 58,  1, 69, 60,  1, 41, 80,  0,  0,\n",
      "         0, 27, 75, 74, 62, 69, 72, 24,  1, 38, 12,  1, 32, 72, 55, 68, 65,  1,\n",
      "        28, 55, 75, 67,  0,  0, 44, 59, 66, 59, 55, 73, 59,  1, 58, 55, 74, 59,\n",
      "        24,  1, 32, 59, 56, 72, 75, 55, 72, 79,  1, 15, 10,  1, 15, 23, 23, 17,\n",
      "         1, 53, 59, 28, 69, 69, 65,  1,  3, 19])\n"
     ]
    }
   ],
   "source": [
    "string_to_int = {ch:i for i,ch in enumerate(chars)}\n",
    "int_to_string = {i:ch for i,ch in enumerate(chars)}\n",
    "encode = lambda s: [string_to_int[c] for c in s]\n",
    "decode = lambda l: ''.join([int_to_string[i] for i in l])\n",
    "\n",
    "#encoded_hello = encode('hello')\n",
    "#decoded_hello = decode(encoded_hello)\n",
    "#decoded_hello\n",
    "\n",
    "data = torch.tensor(encode(text), dtype=torch.long)\n",
    "print (data[:100])"
   ]
  },
  {
   "cell_type": "code",
   "execution_count": 69,
   "metadata": {},
   "outputs": [
    {
     "name": "stdout",
     "output_type": "stream",
     "text": [
      "inputs:\n",
      "tensor([[84, 35,  1, 77, 63, 66, 66,  1],\n",
      "        [62, 59,  1, 64, 69, 75, 72, 68],\n",
      "        [61,  1, 74, 62, 59, 79,  1, 57],\n",
      "        [ 1, 63, 73,  1, 74, 62, 59,  1]], device='cuda:0')\n",
      "targets:\n",
      "tensor([[35,  1, 77, 63, 66, 66,  1, 61],\n",
      "        [59,  1, 64, 69, 75, 72, 68, 59],\n",
      "        [ 1, 74, 62, 59, 79,  1, 57, 55],\n",
      "        [63, 73,  1, 74, 62, 59,  1, 73]], device='cuda:0')\n"
     ]
    }
   ],
   "source": [
    "n = int(0.8*len(data))\n",
    "train_data = data[:n]\n",
    "val_data = data[n:]\n",
    "\n",
    "def get_batch(split):\n",
    "    data = train_data if split == 'train' else val_data\n",
    "    ix = torch.randint(len(data) - block_size, (batch_size,))\n",
    "    x = torch.stack([data[i:i+block_size] for i in ix])\n",
    "    y = torch.stack([data[i+1:i+block_size+1] for i in ix])\n",
    "    x, y = x.to(device), y.to(device)\n",
    "    return x, y\n",
    "\n",
    "x, y = get_batch('train')\n",
    "print('inputs:')\n",
    "# print(x.shape)\n",
    "print(x)\n",
    "print('targets:')\n",
    "print(y)"
   ]
  },
  {
   "cell_type": "code",
   "execution_count": 70,
   "metadata": {},
   "outputs": [
    {
     "name": "stdout",
     "output_type": "stream",
     "text": [
      "when input is tensor([88]) target is tensor(46)\n",
      "when input is tensor([88, 46]) target is tensor(63)\n",
      "when input is tensor([88, 46, 63]) target is tensor(74)\n",
      "when input is tensor([88, 46, 63, 74]) target is tensor(66)\n",
      "when input is tensor([88, 46, 63, 74, 66]) target is tensor(59)\n",
      "when input is tensor([88, 46, 63, 74, 66, 59]) target is tensor(24)\n",
      "when input is tensor([88, 46, 63, 74, 66, 59, 24]) target is tensor(1)\n",
      "when input is tensor([88, 46, 63, 74, 66, 59, 24,  1]) target is tensor(46)\n"
     ]
    }
   ],
   "source": [
    "block_size = 8\n",
    "x = train_data[:block_size]\n",
    "y = train_data[1:block_size+1]\n",
    "\n",
    "for t in range(block_size):\n",
    "    context = x[:t+1]\n",
    "    target = y[t]\n",
    "    print('when input is', context, 'target is', target)"
   ]
  },
  {
   "cell_type": "code",
   "execution_count": 71,
   "metadata": {},
   "outputs": [],
   "source": [
    "@torch.no_grad()\n",
    "def estimate_loss():\n",
    "    out = {}\n",
    "    model.eval()\n",
    "    for split in ['train', 'val']:\n",
    "        losses = torch.zeros(eval_iters)\n",
    "        for k in range(eval_iters):\n",
    "            X, Y = get_batch(split)\n",
    "            logits, loss = model(X, Y)\n",
    "            losses[k] = loss.item()\n",
    "        out[split] = losses.mean()\n",
    "    model.train()\n",
    "    return out"
   ]
  },
  {
   "cell_type": "code",
   "execution_count": 72,
   "metadata": {},
   "outputs": [
    {
     "name": "stdout",
     "output_type": "stream",
     "text": [
      "\n",
      "9:K:F24A]O%7D!:Se9R3H-Xq5*&f﻿’KU.X‘aZK&MK-r(&Q3™t6q\n",
      "APDxBS4Z(.]nH!xn,UIxBVD#S4C™tO”eC#HeI!IO]LGe0 u•—BQgyRB4.v’yd﻿K3C”DEsYt﻿0j*J hwq—ar‘ubdwnHjHDBcsGoFTqV9RYtj? [G]&8aHNEs,,Sr nZ‘x‘k—Jq[T]:m?0wnqOp™tHuoPb#blA6I8fc/fCy(Kl]42gl”y(CfcSUd!’K&#z1:KO\n",
      "qm2qS$VaUx8vhuu .”nO9TP6x1:zF7.K/vBaLgGO”D::n*5vFAK:z—E]XLGe.py9&G™tp#6’G)?RETt﻿“.SUxR-]r™z*h3$!—”i4”vLLR6-)a&hgeK﻿%wkXjKmUl%Sn(1bK\n",
      ";5G\n",
      "cw%S4,rPou;4—Z8*l.L?%—JM-5GNtNzyqy/IYfm“-)J\n",
      "﻿y”VG56EFd?OhgENTDa rp5%—Oh$x’WzZ7—2o,q0q2BV﻿W5&Sb#Q9C*huAr?nqU﻿aI7t1kl76el\n"
     ]
    }
   ],
   "source": [
    "class BigramLanguageModel(nn.Module):\n",
    "    def __init__(self, vocab_size):\n",
    "        super().__init__()\n",
    "        self.token_embedding_table = nn.Embedding(vocab_size, vocab_size)\n",
    "\n",
    "    def forward(self, index, targets=None):\n",
    "        logits = self.token_embedding_table(index)\n",
    "        if targets is None:\n",
    "            loss = None\n",
    "        else:        \n",
    "            #batch, time, channel\n",
    "            B, T, C = logits.shape\n",
    "            logits = logits.view(B*T, C)\n",
    "            targets = targets.view(B*T)\n",
    "            loss = F.cross_entropy(logits, targets)\n",
    "        return logits, loss\n",
    "\n",
    "    def generate(self, index, max_new_tokens):\n",
    "        # index is (B, T) array of indices in the current context\n",
    "        for _ in range(max_new_tokens):\n",
    "            # get the predictions\n",
    "            logits, loss = self.forward(index)\n",
    "            # focus only on the last time step\n",
    "            logits = logits[:, -1, :] # becomes (B, C)\n",
    "            # apply softmax to get probabilities\n",
    "            probs = F.softmax(logits, dim=-1) # (B, C)\n",
    "            # sample from the distribution\n",
    "            index_next = torch.multinomial(probs, num_samples=1) # (B, 1)\n",
    "            # append sampled index to the running sequence\n",
    "            index = torch.cat((index, index_next), dim=1) # (B, T+1)\n",
    "        return index\n",
    "\n",
    "model = BigramLanguageModel(vocab_size)\n",
    "m = model.to(device)\n",
    "\n",
    "context = torch.zeros((1,1), dtype=torch.long, device=device)\n",
    "generated_chars = decode(m.generate(context, max_new_tokens=500)[0].tolist())\n",
    "print(generated_chars)"
   ]
  },
  {
   "cell_type": "code",
   "execution_count": 73,
   "metadata": {},
   "outputs": [
    {
     "name": "stdout",
     "output_type": "stream",
     "text": [
      "4.658657550811768\n"
     ]
    }
   ],
   "source": [
    "optimizer = torch.optim.AdamW(model.parameters(), lr=learning_rate)\n",
    "\n",
    "for iter in range(max_iters):\n",
    "    #if iter % eval_iters == 0:\n",
    "     #   losses = estimate_loss()\n",
    "     #   print(f\"step: {iter}, train loss: {losses['train']:.3f}, val loss: {losses['val']:.3f}\")\n",
    "\n",
    "    # sample a batch of data\n",
    "    xb, yb = get_batch('train')\n",
    "\n",
    "    # evaluate the loss\n",
    "    logits, loss = model.forward(xb, yb)\n",
    "    optimizer.zero_grad(set_to_none=True)\n",
    "    loss.backward()\n",
    "    optimizer.step()\n",
    "print(loss.item())"
   ]
  },
  {
   "cell_type": "code",
   "execution_count": 74,
   "metadata": {},
   "outputs": [
    {
     "name": "stdout",
     "output_type": "stream",
     "text": [
      "\n",
      "owAzZ5WQiG&d.•cwSJ0GBab”!Yt0Cj&﻿ gbH,3MPifV6dB$p—C-Ur)a5XFYeZO;•Da,fmJo;Bnu.im5v$,nvlZLH#jl:gKy”O3g[lSHD7tYwE;jVG”k8*y™np2g]dy4j0L:MK*k$[0U H4jAhO”lp!﻿’(F#y™3?”okzf&ysz#u2-OXF?YK22q—qV﻿’“0C﻿YYn]“ougR”wi*3HGJ%y.6’7EDYK\n",
      "utJuv-klU1”/q31:F”!—nn?Y*l4,Fz1%$,::TJW8iBasq):u;s$067J]d—rzzyy&fK;c’cf(S8t—O9Rp$.dzZz?)?XwD•”lS•QhK.dqhGNGeaBRu6eNrDPxe0777%w&;ZfZw!—5gBJ%wgtYFi6*)v6J•“2z!H&4”oDOth5!Sgely”jQray”4vFIY:Z™dZ“/2CI- BG‘;X)RET﻿gnpaw&AK&3;[P.S:G&EU/Q:i*)eZ3tBUAHu7HgEs1:[/$YI﻿NCIpbX[GJ•XfsXS&’UJ%”4$Nq’“;\n"
     ]
    }
   ],
   "source": [
    "context = torch.zeros((1,1), dtype=torch.long, device=device)\n",
    "generated_chars = decode(m.generate(context, max_new_tokens=500)[0].tolist())\n",
    "print(generated_chars)"
   ]
  },
  {
   "cell_type": "code",
   "execution_count": null,
   "metadata": {},
   "outputs": [],
   "source": []
  }
 ],
 "metadata": {
  "kernelspec": {
   "display_name": "cuda-gpt",
   "language": "python",
   "name": "cuda"
  },
  "language_info": {
   "codemirror_mode": {
    "name": "ipython",
    "version": 3
   },
   "file_extension": ".py",
   "mimetype": "text/x-python",
   "name": "python",
   "nbconvert_exporter": "python",
   "pygments_lexer": "ipython3",
   "version": "3.11.4"
  }
 },
 "nbformat": 4,
 "nbformat_minor": 4
}
